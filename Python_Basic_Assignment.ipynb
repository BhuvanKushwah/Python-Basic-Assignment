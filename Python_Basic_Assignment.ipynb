{
  "nbformat": 4,
  "nbformat_minor": 0,
  "metadata": {
    "colab": {
      "provenance": []
    },
    "kernelspec": {
      "name": "python3",
      "display_name": "Python 3"
    },
    "language_info": {
      "name": "python"
    }
  },
  "cells": [
    {
      "cell_type": "markdown",
      "source": [
        "1. What is Python, and why is it popular ?\n",
        "  - Python is a high-level, interpreted programming language known for its simplicity and readability.\n",
        "  - Python is Popular because of its simple and readable syntax.\n",
        "  - Large Standard Library\n",
        "  - Versatility\n",
        "\n",
        "2. What is an interpreter in Python?\n",
        "  - An interpreter in Python is a program that reads and executes Python code line by line. It translate Python code into machine code at runtime, making it easier to test and debug.\n",
        "\n",
        "3. What are pre-defined keywords in Python?\n",
        "  - pre-defined keywords are reserved words that have special meaning in Python.They cannot be used as variable names.\n",
        "  Ex- if, else, for, while, import, def, return etc.\n",
        "\n",
        "4. Can keywords be used as variable names?\n",
        "  - No, keywords cannot be used as variable names in programming languages like C, C++, Python, and Java.\n",
        "\n",
        "5. What is mutability in Python?\n",
        "  - Mutability refers to whether or not an object's value can be changed after it is created.\n",
        "  - Mutable objects: Can be changed (ex- lists, dictionaries).\n",
        "  - Immutable objects: Cannot be changed (ex-  strings, tuples).\n",
        "\n",
        "6. Why are lists mutable, but tuples are immutable?\n",
        "  - Lists are designed to be flexible and allow modifications like adding or removing elements.\n",
        "  - Tuples are used when a fixed, unchangeable sequence of elements is needed. This immutability can help protect data integrity and improve performance.\n",
        "\n",
        "7. What is the difference between “==” and “is” operators in Python?\n",
        "  -  == checks value equality (whether the values are the same).\n",
        "  - is checks identity (whether two variables point to the same object in memory).\n",
        "\n",
        "8. What are logical operators in Python?\n",
        "  - Logical operators are used to combine conditional statements:\n",
        "  - and: True if both conditions are true\n",
        "  - or: True if at least one condition is true\n",
        "  - not: Reverses the result (True becomes False, and vice versa)\n",
        "\n",
        "9. What is type casting in Python?\n",
        "  - Type Casting is the method to convert the one data type into another.\n",
        "\n",
        "10. What is the difference between implicit and explicit type casting?\n",
        "  - Implicit casting: Done automatically by Python.\n",
        "  - Explicit casting: Done manually by the programmer.\n",
        "\n",
        "11. What is the purpose of conditional statements in Python?\n",
        "  - Conditional statements (if, elif, else) are used to perform different actions based on different conditions. They help control the flow of the program.\n",
        "\n",
        "12. How does the elif statement work?\n",
        "  - elif (short for “else if”) checks another condition if the previous if condition was False.\n",
        "\n",
        "13.  What is the difference between for and while loops?\n",
        "  - for loop: Used when you know how many times to iterate.\n",
        "  - Ex- for i in range(5):\n",
        "        print(i)\n",
        "  - while loop: Used when the number of iterations is not known in advance.\n",
        "\n",
        "14. Describe a scenario where a while loop is more suitable than a for loop?\n",
        "  - Use a while loop when the loop should run until a condition is met, not a specific number of times.\n",
        ""
      ],
      "metadata": {
        "id": "pr2YNLDp4EnQ"
      }
    },
    {
      "cell_type": "code",
      "source": [
        "# Write a Python program to print \"Hello, World!\"\n",
        "\n",
        "print(\"Hello, World!\")\n"
      ],
      "metadata": {
        "colab": {
          "base_uri": "https://localhost:8080/"
        },
        "id": "BBGBd1qd4CWg",
        "outputId": "cb3d75cd-c4b9-40ea-a528-307b7d3c950a"
      },
      "execution_count": 18,
      "outputs": [
        {
          "output_type": "stream",
          "name": "stdout",
          "text": [
            "Hello, World!\n"
          ]
        }
      ]
    },
    {
      "cell_type": "code",
      "source": [
        "# Write a Python program that displays your name and age.\n",
        "\n",
        "name = \"Bhuvan Kushwah\"\n",
        "age  = 20\n",
        "\n",
        "print(\"My name is:\",name)\n",
        "print(\"My age is:\",age)\n"
      ],
      "metadata": {
        "colab": {
          "base_uri": "https://localhost:8080/"
        },
        "id": "Ig-hKS22Gp59",
        "outputId": "bf2497cb-ed88-461e-b24a-e51a6479693c"
      },
      "execution_count": 17,
      "outputs": [
        {
          "output_type": "stream",
          "name": "stdout",
          "text": [
            "My name is: Bhuvan Kushwah\n",
            "My age is: 20\n"
          ]
        }
      ]
    },
    {
      "cell_type": "code",
      "source": [
        "# Write code to print all the pre-defined keywords in Python using the keyword library.\n",
        "''' There are two methods to find the all pre-defined keywords in Python.'''\n",
        "\n",
        "# Method 1:\n",
        "\n",
        "import keyword\n",
        "\n",
        "print(keyword.kwlist)\n",
        "\n",
        "# Method 2:\n",
        "\n",
        "help(\"keywords\")"
      ],
      "metadata": {
        "colab": {
          "base_uri": "https://localhost:8080/"
        },
        "id": "cqDUVKZ3KAXh",
        "outputId": "2f1e390b-254f-43f3-ec3c-ad6098ee2c5c"
      },
      "execution_count": 25,
      "outputs": [
        {
          "output_type": "stream",
          "name": "stdout",
          "text": [
            "['False', 'None', 'True', 'and', 'as', 'assert', 'async', 'await', 'break', 'class', 'continue', 'def', 'del', 'elif', 'else', 'except', 'finally', 'for', 'from', 'global', 'if', 'import', 'in', 'is', 'lambda', 'nonlocal', 'not', 'or', 'pass', 'raise', 'return', 'try', 'while', 'with', 'yield']\n",
            "\n",
            "Here is a list of the Python keywords.  Enter any keyword to get more help.\n",
            "\n",
            "False               class               from                or\n",
            "None                continue            global              pass\n",
            "True                def                 if                  raise\n",
            "and                 del                 import              return\n",
            "as                  elif                in                  try\n",
            "assert              else                is                  while\n",
            "async               except              lambda              with\n",
            "await               finally             nonlocal            yield\n",
            "break               for                 not                 \n",
            "\n"
          ]
        }
      ]
    },
    {
      "cell_type": "code",
      "source": [
        "# Write a program that checks if a given word is a Python keyword.\n",
        "\n",
        "import keyword\n",
        "word = input(\"Enter your word \")\n",
        "if keyword.iskeyword(word):\n",
        "  print(word, \"is a python keyword\")\n",
        "else:\n",
        "  print(word, \"is not a python keyword\")"
      ],
      "metadata": {
        "colab": {
          "base_uri": "https://localhost:8080/"
        },
        "id": "CeDaRB-FI35D",
        "outputId": "14823fb2-7431-476f-cd03-2c6189178630"
      },
      "execution_count": 26,
      "outputs": [
        {
          "output_type": "stream",
          "name": "stdout",
          "text": [
            "Enter your word else\n",
            "else is a python keyword\n"
          ]
        }
      ]
    },
    {
      "cell_type": "code",
      "source": [
        "# Create a list and tuple in Python, and demonstrate how attempting to change an element works differently for each.\n",
        "\n",
        "#this a attempt to change the element of list\n",
        "list = [10, 20, 30]\n",
        "print(\"This is a original list: \" ,list)\n",
        "list[2] = 25\n",
        "print(\"This is a changed list: \" ,list)\n",
        "\n",
        "print(\" \") #using for blank space\n",
        "\n",
        "#this a attempt to change the element of tuple\n",
        "my_tuple = (10, 20, 30)\n",
        "print(\"This is a original tuple: \" ,my_tuple)\n",
        "new_tuple = my_tuple[:1] + (99,) + my_tuple[2:]\n",
        "print(\"This is a changed tuple: \" ,new_tuple)\n"
      ],
      "metadata": {
        "colab": {
          "base_uri": "https://localhost:8080/"
        },
        "id": "wd4RbISNKHxI",
        "outputId": "efe8933f-d35e-4c2f-d01c-637e48b05699"
      },
      "execution_count": 27,
      "outputs": [
        {
          "output_type": "stream",
          "name": "stdout",
          "text": [
            "This is a original list:  [10, 20, 30]\n",
            "This is a changed list:  [10, 20, 25]\n",
            " \n",
            "This is a original tuple:  (10, 20, 30)\n",
            "This is a changed tuple:  (10, 99, 30)\n"
          ]
        }
      ]
    },
    {
      "cell_type": "code",
      "source": [
        "# Write a function to demonstrate the behavior of mutable and immutable arguments.\n",
        "def modify_list(lst):\n",
        "    lst.append(4)\n",
        "    return lst\n",
        "\n",
        "def modify_int(n):\n",
        "    n += 1\n",
        "    return n\n",
        "\n",
        "# Mutable\n",
        "my_list = [1, 2, 3]\n",
        "print(\"Modified list:\", modify_list(my_list))\n",
        "\n",
        "# Immutable\n",
        "num = 5\n",
        "print(\"Modified number:\", modify_int(num))"
      ],
      "metadata": {
        "colab": {
          "base_uri": "https://localhost:8080/"
        },
        "id": "3x3XclT_KuPY",
        "outputId": "5424c0d2-492f-4c97-9b9c-895c63a5b259"
      },
      "execution_count": 32,
      "outputs": [
        {
          "output_type": "stream",
          "name": "stdout",
          "text": [
            "Modified list: [1, 2, 3, 4]\n",
            "Modified number: 6\n"
          ]
        }
      ]
    },
    {
      "cell_type": "code",
      "source": [
        "# Write a program that performs basic arithmetic operations on two user-input numbers.\n",
        "\n",
        "a = float(input(\"Enter first number: \"))\n",
        "b = float(input(\"Enter second number: \"))\n",
        "print(\"Addition:\", a + b)\n",
        "print(\"Subtraction:\", a - b)\n",
        "print(\"Multiplication:\", a * b)\n",
        "print(\"Division:\", a / b)\n"
      ],
      "metadata": {
        "colab": {
          "base_uri": "https://localhost:8080/"
        },
        "id": "Mo1MyRk8LzMv",
        "outputId": "6e5260d4-e113-44dd-dcf1-8e06d5f6a385"
      },
      "execution_count": 33,
      "outputs": [
        {
          "output_type": "stream",
          "name": "stdout",
          "text": [
            "Enter first number: 20\n",
            "Enter second number: 15\n",
            "Addition: 35.0\n",
            "Subtraction: 5.0\n",
            "Multiplication: 300.0\n",
            "Division: 1.3333333333333333\n"
          ]
        }
      ]
    },
    {
      "cell_type": "code",
      "source": [
        "#  Write a program to demonstrate the use of logical operators.\n",
        "\n",
        "a = True\n",
        "b = False\n",
        "print(\"a and b:\", a and b)\n",
        "print(\"a or b:\", a or b)\n",
        "print(\"not a:\", not a)"
      ],
      "metadata": {
        "colab": {
          "base_uri": "https://localhost:8080/"
        },
        "id": "RPxZNyF1MahW",
        "outputId": "ac062ac7-ca58-445e-fd68-3c004708c5dc"
      },
      "execution_count": 34,
      "outputs": [
        {
          "output_type": "stream",
          "name": "stdout",
          "text": [
            "a and b: False\n",
            "a or b: True\n",
            "not a: False\n"
          ]
        }
      ]
    },
    {
      "cell_type": "code",
      "source": [
        "# Write a Python program to convert user input from string to integer, float, and boolean types.\n",
        "\n",
        "s = input(\"Enter a number: \")\n",
        "i = int(s)\n",
        "f = float(s)\n",
        "b = bool(s)\n",
        "print(\"Integer:\", i)\n",
        "print(\"Float:\", f)\n",
        "print(\"Boolean:\", b)"
      ],
      "metadata": {
        "colab": {
          "base_uri": "https://localhost:8080/"
        },
        "id": "BOFFQcyNMipV",
        "outputId": "0041ce41-5703-43b3-8c6b-b90f1ffaa589"
      },
      "execution_count": 35,
      "outputs": [
        {
          "output_type": "stream",
          "name": "stdout",
          "text": [
            "Enter a number: 2\n",
            "Integer: 2\n",
            "Float: 2.0\n",
            "Boolean: True\n"
          ]
        }
      ]
    },
    {
      "cell_type": "code",
      "source": [
        "# Write code to demonstrate type casting with list elements.\n",
        "\n",
        "str_list = ['1', '2', '3']\n",
        "int_list = [int(x) for x in str_list]\n",
        "print(\"Converted list:\", int_list)"
      ],
      "metadata": {
        "colab": {
          "base_uri": "https://localhost:8080/"
        },
        "id": "sghvTAltNJSF",
        "outputId": "47d5c8f9-e4aa-48ee-d93d-1a5c558cc531"
      },
      "execution_count": 36,
      "outputs": [
        {
          "output_type": "stream",
          "name": "stdout",
          "text": [
            "Converted list: [1, 2, 3]\n"
          ]
        }
      ]
    },
    {
      "cell_type": "code",
      "source": [
        "# Write a program that checks if a number is positive, negative, or zero.\n",
        "\n",
        "num = float(input(\"Enter a number: \"))\n",
        "if num > 0:\n",
        "    print(\"Positive\")\n",
        "elif num < 0:\n",
        "    print(\"Negative\")\n",
        "else:\n",
        "    print(\"Zero\")"
      ],
      "metadata": {
        "colab": {
          "base_uri": "https://localhost:8080/"
        },
        "id": "cClh7NiwNV_0",
        "outputId": "718e3e85-bd6d-4de8-88db-654d5cc155e0"
      },
      "execution_count": 37,
      "outputs": [
        {
          "output_type": "stream",
          "name": "stdout",
          "text": [
            "Enter a number: 35\n",
            "Positive\n"
          ]
        }
      ]
    },
    {
      "cell_type": "code",
      "source": [
        "# Write a for loop to print numbers from 1 to 10.\n",
        "\n",
        "for i in range(1, 11):\n",
        "    print(i)"
      ],
      "metadata": {
        "colab": {
          "base_uri": "https://localhost:8080/"
        },
        "id": "Iy3N01cmNuDc",
        "outputId": "fef0ce3a-00de-4d50-f409-e0c03ef57f00"
      },
      "execution_count": 38,
      "outputs": [
        {
          "output_type": "stream",
          "name": "stdout",
          "text": [
            "1\n",
            "2\n",
            "3\n",
            "4\n",
            "5\n",
            "6\n",
            "7\n",
            "8\n",
            "9\n",
            "10\n"
          ]
        }
      ]
    },
    {
      "cell_type": "code",
      "source": [
        "# Write a Python program to find the sum of all even numbers between 1 and 50.\n",
        "\n",
        "total = 0\n",
        "for i in range(2, 51, 2):\n",
        "    total += i\n",
        "print(\"Sum of even numbers from 1 to 50:\", total)"
      ],
      "metadata": {
        "colab": {
          "base_uri": "https://localhost:8080/"
        },
        "id": "vS0CR8XtN23E",
        "outputId": "bb973938-87bf-48e5-f86b-e3005111f519"
      },
      "execution_count": 40,
      "outputs": [
        {
          "output_type": "stream",
          "name": "stdout",
          "text": [
            "Sum of even numbers from 1 to 50: 650\n"
          ]
        }
      ]
    },
    {
      "cell_type": "code",
      "source": [
        "# Write a program to reverse a string using a while loop.\n",
        "\n",
        "str = input(\"Enter a string: \")\n",
        "reverse = \"\"\n",
        "i = len(str) - 1\n",
        "while i >= 0:\n",
        "    reverse += str[i]\n",
        "    i -= 1\n",
        "print(\"Reversed string:\", reverse)"
      ],
      "metadata": {
        "colab": {
          "base_uri": "https://localhost:8080/"
        },
        "id": "wTltRBAdOHVU",
        "outputId": "d9ca51fa-2a63-46f6-8aa4-27badb405114"
      },
      "execution_count": 41,
      "outputs": [
        {
          "output_type": "stream",
          "name": "stdout",
          "text": [
            "Enter a string: Bhuvan\n",
            "Reversed string: navuhB\n"
          ]
        }
      ]
    },
    {
      "cell_type": "code",
      "source": [
        "# Write a Python program to calculate the factorial of a number provided by the user using a while loop.\n",
        "\n",
        "num = int(input(\"Enter a number: \"))\n",
        "factorial = 1\n",
        "i = 1\n",
        "while i <= num:\n",
        "    factorial *= i\n",
        "    i += 1\n",
        "print(\"Factorial:\", factorial)"
      ],
      "metadata": {
        "colab": {
          "base_uri": "https://localhost:8080/"
        },
        "id": "VeUDMjmKOT-7",
        "outputId": "696f0396-4fd6-48d5-d4ca-005a0165c173"
      },
      "execution_count": 45,
      "outputs": [
        {
          "output_type": "stream",
          "name": "stdout",
          "text": [
            "Enter a number: 4\n",
            "Factorial: 24\n"
          ]
        }
      ]
    }
  ]
}